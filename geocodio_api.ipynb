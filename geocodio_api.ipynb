{
 "cells": [
  {
   "cell_type": "code",
   "execution_count": null,
   "metadata": {},
   "outputs": [],
   "source": [
    "#!pip install pandas pygeocodio\n"
   ]
  },
  {
   "cell_type": "code",
   "execution_count": null,
   "metadata": {},
   "outputs": [],
   "source": [
    "import pandas as pd\n",
    "import json\n",
    "import logging\n",
    "from geocodio import GeocodioClient, GeocodioError"
   ]
  },
  {
   "cell_type": "code",
   "execution_count": null,
   "metadata": {},
   "outputs": [],
   "source": [
    "# Logging to track geocoding batches and errors\n",
    "logging.basicConfig(\n",
    "    filename='geocoding_log.log',\n",
    "    level=logging.INFO,\n",
    "    format='%(asctime)s - %(levelname)s - %(message)s'\n",
    ")"
   ]
  },
  {
   "cell_type": "code",
   "execution_count": null,
   "metadata": {},
   "outputs": [],
   "source": [
    "# Inputting CSV File\n",
    "input_csv = \"input_addresses.csv\"  # Replace with your actual CSV file path\n",
    "df = pd.read_csv(input_csv)ly\n",
    "df.head()"
   ]
  },
  {
   "cell_type": "code",
   "execution_count": null,
   "metadata": {},
   "outputs": [],
   "source": [
    "# Ensuring the CSV contains the required columns\n",
    "required_columns = ['FID', 'ID', 'address', 'city', 'state', 'zip']\n",
    "for col in required_columns:\n",
    "    if col not in df.columns:\n",
    "        logging.error(f\"Missing column: {col}\")\n",
    "        raise ValueError(f\"Input CSV must contain the '{col}' column\")\n",
    "\n",
    "print(\"All required columns are present.\")"
   ]
  },
  {
   "cell_type": "code",
   "execution_count": null,
   "metadata": {},
   "outputs": [],
   "source": [
    "# Combining address, city, state, and zip into a full address string\n",
    "df['full_address'] = df['address'] + ', ' + df['city'] + ', ' + df['state'] + ' ' + df['zip'].astype(str)\n",
    "df.head()"
   ]
  },
  {
   "cell_type": "code",
   "execution_count": null,
   "metadata": {},
   "outputs": [],
   "source": [
    "# Initializing the Geocodio client with API key\n",
    "api_key = \"your_geocodio_api_key\"  # Replace with the actual Geocodio API key\n",
    "client = GeocodioClient(api_key)"
   ]
  },
  {
   "cell_type": "code",
   "execution_count": null,
   "metadata": {},
   "outputs": [],
   "source": [
    "# Function to perform batch geocoding with error handling and logging\n",
    "def batch_geocode(addresses, start_index=0, batch_size=10000):\n",
    "    geocode_results = []\n",
    "    for i in range(start_index, len(addresses), batch_size):\n",
    "        batch = addresses[i:i + batch_size]\n",
    "        batch_number = i // batch_size + 1\n",
    "        try:\n",
    "            logging.info(f\"Processing batch {batch_number} (records {i + 1} to {i + len(batch)})\")\n",
    "            # Perform geocoding with census fields\n",
    "            geocode_batch_results = client.geocode(batch, fields=[\"census2000\", \"census2010\", \"census2020\"])\n",
    "            logging.info(f\"Successfully geocoded batch {batch_number} (records {i + 1} to {i + len(batch)})\")\n",
    "            geocode_results.extend(geocode_batch_results['results'])\n",
    "        except GeocodioError as e:\n",
    "            logging.error(f\"Error during geocoding batch {batch_number} (records {i + 1} to {i + len(batch)}): {str(e)}\")\n",
    "            raise\n",
    "    return geocode_results"
   ]
  },
  {
   "cell_type": "code",
   "execution_count": null,
   "metadata": {},
   "outputs": [],
   "source": [
    "# Extract the addresses into a list for geocoding\n",
    "addresses = df['full_address'].tolist()\n",
    "\n",
    "# Perform batch geocoding\n",
    "geocode_results = batch_geocode(addresses)"
   ]
  },
  {
   "cell_type": "code",
   "execution_count": null,
   "metadata": {},
   "outputs": [],
   "source": [
    "# Creating a custom result structure that includes original fields and geocoded data\n",
    "processed_results = []\n",
    "for j, result in enumerate(geocode_results):\n",
    "    record = {\n",
    "        'FID': df.iloc[j]['FID'],\n",
    "        'ID': df.iloc[j]['ID'],\n",
    "        'address': df.iloc[j]['address'],\n",
    "        'city': df.iloc[j]['city'],\n",
    "        'state': df.iloc[j]['state'],\n",
    "        'zip': df.iloc[j]['zip'],\n",
    "        'geocoded_address': result['formatted_address'],\n",
    "        'latitude': result['location']['lat'],\n",
    "        'longitude': result['location']['lng'],\n",
    "        'accuracy': result.get('accuracy'),\n",
    "        'census2000': result.get('fields', {}).get('census2000', {}),\n",
    "        'census2010': result.get('fields', {}).get('census2010', {}),\n",
    "        'census2020': result.get('fields', {}).get('census2020', {})\n",
    "    }\n",
    "    processed_results.append(record)"
   ]
  },
  {
   "cell_type": "code",
   "execution_count": null,
   "metadata": {},
   "outputs": [],
   "source": [
    "# Saving the geocoded results to a JSON file\n",
    "output_json = \"output_geocoded_results.json\"\n",
    "with open(output_json, 'w') as json_file:\n",
    "    json.dump(processed_results, json_file, indent=4)\n",
    "\n",
    "print(f\"Geocoding complete. Results saved to {output_json}\")"
   ]
  },
  {
   "cell_type": "code",
   "execution_count": null,
   "metadata": {},
   "outputs": [],
   "source": [
    "# Inspecting results\n",
    "processed_results[:5]\n"
   ]
  }
 ],
 "metadata": {
  "language_info": {
   "name": "python"
  }
 },
 "nbformat": 4,
 "nbformat_minor": 2
}
